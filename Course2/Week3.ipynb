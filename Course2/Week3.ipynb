{
 "cells": [
  {
   "cell_type": "markdown",
   "metadata": {},
   "source": [
    "### Week 3: How do we sequence antibiotics?"
   ]
  },
  {
   "cell_type": "markdown",
   "metadata": {},
   "source": [
    "The following problem asks you to find the translation of an RNA string into an amino acid string.\n",
    "\n",
    "**Protein Translation Problem**: *Translate an RNA string into an amino acid string.*\n",
    "\n",
    "* **Input**: An RNA string *Pattern* and the array *GeneticCode*.\n",
    "* **Output**: The translation of *Pattern* into an amino acid string *Peptide*."
   ]
  },
  {
   "cell_type": "code",
   "execution_count": 17,
   "metadata": {},
   "outputs": [
    {
     "data": {
      "text/plain": [
       "'MAMAPRTEINSTRING'"
      ]
     },
     "execution_count": 17,
     "metadata": {},
     "output_type": "execute_result"
    }
   ],
   "source": [
    "from helpers import *\n",
    "from display import *\n",
    "\n",
    "def translate(seq: str) -> str:\n",
    "    return ''.join(CODON_TABLE[codon] for codon in chunks(seq))\n",
    "\n",
    "translate('AUGGCCAUGGCGCCCAGAACUGAGAUCAAUAGUACCCGUAUUAACGGGUGA')"
   ]
  },
  {
   "cell_type": "markdown",
   "metadata": {},
   "source": [
    "We say that a DNA string *Pattern* **encodes** an amino acid string *Peptide* if the RNA string transcribed from either *Pattern* or its reverse complement *Pattern* translates into *Peptide*. For example, the DNA string `GAAACT` is transcribed into `GAAACU` and translated into `ET`. The reverse complement of this DNA string, `AGTTTC`, is transcribed into `AGUUUC` and translated into SF. Thus, `GAAACT` encodes both `ET` and `SF`.\n",
    "\n",
    "**Peptide Encoding Problem**: *Find substrings of a genome encoding a given amino acid sequence.*\n",
    "\n",
    "* **Input**: A DNA string *Text*, an amino acid string *Peptide*, and the array *GeneticCode*.\n",
    "* **Output**: All substrings of *Text* encoding *Peptide* (if any such substrings exist)."
   ]
  },
  {
   "cell_type": "code",
   "execution_count": 12,
   "metadata": {},
   "outputs": [
    {
     "name": "stdout",
     "output_type": "stream",
     "text": [
      "ATGGCC\n",
      "GGCCAT\n",
      "ATGGCC\n"
     ]
    }
   ],
   "source": [
    "def peptide_encoding_problem(dna: str, peptide: str) -> list[str]:\n",
    "    fragments = []\n",
    "    for frag in window(dna, len(peptide)*3):\n",
    "        if (peptide == DNA_to_peptide(frag)) or (peptide == DNA_to_peptide(reverse_comp(frag))):\n",
    "            fragments.append(frag)\n",
    "    return fragments\n",
    "\n",
    "Text = 'ATGGCCATGGCCCCCAGAACTGAGATCAATAGTACCCGTATTAACGGGTGA'\n",
    "Peptide = 'MA'\n",
    "\n",
    "print_list(peptide_encoding_problem(Text, Peptide), sep='\\n')"
   ]
  },
  {
   "cell_type": "code",
   "execution_count": 13,
   "metadata": {},
   "outputs": [
    {
     "name": "stdout",
     "output_type": "stream",
     "text": [
      "CTTAAACCGGACGTCTAAGTACGGGTATAC\n",
      "GTGTATCCTTACCTAGACGTCAGGTTTAAA\n",
      "TTTGAAACGTACATCCAGATAGGGATATAC\n",
      "GTCTACCCTTATTTAGACGTCCGCTTCAAA\n",
      "GTATACCCGTATTTGGACGTTCGCTTCAAG\n",
      "CTTAAATCGAACATCCAAATAGGGATAAAC\n",
      "GTGTATCCCTACCTCGATGTGCGGTTTAAG\n",
      "GTATATCCCTATCTCGATGTCCGATTCAAG\n",
      "GTGTACCCCTATTTAGATGTGCGCTTTAAG\n",
      "CTTAAAGCGAACGTCTAAGTAGGGGTATAC\n",
      "CTTGAAACGTACATCTAGGTAAGGATAGAC\n",
      "CTTGAAGCGTACGTCAAGATACGGATAAAC\n",
      "TTTGAAACGAACGTCGAGGTATGGATATAC\n",
      "TTTGAATCGGACATCTAAATAAGGATACAC\n",
      "TTTGAACCGGACGTCCAGATAGGGATAAAC\n",
      "CTTAAATCTAACATCTAAGTATGGGTAAAC\n",
      "GTGTATCCGTATCTAGACGTGAGATTCAAA\n",
      "GTATATCCATACTTGGATGTACGGTTTAAA\n",
      "CTTGAAGCGTACGTCCAGGTAGGGGTATAC\n",
      "CTTGAACCTTACATCTAAATACGGATATAC\n"
     ]
    }
   ],
   "source": [
    "with open('dataset_96_7.txt', 'r') as f:\n",
    "    Text = f.readline().strip()\n",
    "    Peptide = f.readline().strip()\n",
    "    print_list(peptide_encoding_problem(Text, Peptide), sep='\\n')"
   ]
  },
  {
   "cell_type": "markdown",
   "metadata": {},
   "source": [
    "Solve the Peptide Encoding Problem for *Bacillus brevis* and Tyrocidine B1 (`Val-Lys-Leu-Phe-Pro-Trp-Phe-Asn-Gln-Tyr``). How many starting positions in *Bacillus brevis* encode this peptide?"
   ]
  },
  {
   "cell_type": "code",
   "execution_count": 14,
   "metadata": {},
   "outputs": [
    {
     "name": "stdout",
     "output_type": "stream",
     "text": [
      "0\n"
     ]
    }
   ],
   "source": [
    "with open('Bacillus_brevis.txt', 'r') as f:\n",
    "    genome = f.read().strip().replace('\\n', '')\n",
    "    tyrocidine_b1 = 'VKLFPWFNQY'\n",
    "    print(len(peptide_encoding_problem(genome, tyrocidine_b1)))"
   ]
  },
  {
   "cell_type": "markdown",
   "metadata": {},
   "source": [
    "The **theoretical spectrum** of a cyclic peptide *Peptide*, denoted *Cyclospectrum(Peptide)*, is the collection of all of the masses of its subpeptides, in addition to the mass 0 and the mass of the entire peptide, with masses ordered from smallest to largest. We will assume that the theoretical spectrum can contain duplicate elements, as is the case for NQEL (shown below), where NQ and EL have the same mass.\n",
    "\n",
    "![duplicate elements](http://bioinformaticsalgorithms.com/images/Antibiotics/duplicate_elements.png)\n",
    "\n",
    "**Generating Theoretical Spectrum Problem**: *Generate the theoretical spectrum of a cyclic peptide.*\n",
    "\n",
    "* **Input**: An amino acid string *Peptide*.\n",
    "* **Output**: *Cyclospectrum(Peptide)*."
   ]
  },
  {
   "cell_type": "code",
   "execution_count": 26,
   "metadata": {},
   "outputs": [
    {
     "name": "stdout",
     "output_type": "stream",
     "text": [
      "0 113 114 128 129 242 242 257 370 371 484\n"
     ]
    }
   ],
   "source": [
    "INTEGER_MASSES = {}\n",
    "with open('integer_mass_table.txt', 'r') as f:\n",
    "    masses = [line.strip().split() for line in f]\n",
    "    INTEGER_MASSES = { mass[0]: int(mass[1]) for mass in masses }\n",
    "\n",
    "def linear_spectrum(peptide: str) -> list[int]:\n",
    "    prefix_mass = []\n",
    "    for i in range(0, len(peptide)+1):\n",
    "        # Sum up the masses of each amino acid in this subpeptide\n",
    "        prefix_mass.append(sum(INTEGER_MASSES[aa] for aa in peptide[:i]))\n",
    "    linear_spectrum = [0]\n",
    "    for i in range(len(prefix_mass)):\n",
    "        for j in range(i+1, len(prefix_mass)):\n",
    "            linear_spectrum.append(prefix_mass[j] - prefix_mass[i])\n",
    "    return sorted(linear_spectrum)\n",
    "\n",
    "peptide_seq = 'NQEL'\n",
    "print_list(linear_spectrum(peptide_seq))"
   ]
  },
  {
   "cell_type": "markdown",
   "metadata": {},
   "source": [
    "If *Peptide* represents a cyclic peptide instead, then the masses in its theoretical spectrum can be divided into those found by *LinearSpectrum* and those corresponding to subpeptides wrapping around the end of *Peptide*. Furthermore, each such subpeptide has mass equal to the difference between *Mass(Peptide)* and a subpeptide mass identified by *LinearSpectrum*.\n",
    "\n",
    "Thus, we can generate a cyclic spectrum by making only a small modification to *LinearSpectrum*."
   ]
  },
  {
   "cell_type": "code",
   "execution_count": 22,
   "metadata": {},
   "outputs": [
    {
     "name": "stdout",
     "output_type": "stream",
     "text": [
      "0 113 114 128 129 227 242 242 257 355 356 370 371 484\n"
     ]
    }
   ],
   "source": [
    "def cyclic_spectrum(peptide: str) -> list[int]:\n",
    "    prefix_mass = []\n",
    "    for i in range(0, len(peptide)+1):\n",
    "        prefix_mass.append(sum(INTEGER_MASSES[aa] for aa in peptide[:i]))\n",
    "    peptide_mass = prefix_mass[-1]\n",
    "    cyclic_spectrum = [0]\n",
    "    for i in range(len(prefix_mass)):\n",
    "        for j in range(i+1, len(prefix_mass)):\n",
    "            cyclic_spectrum.append(prefix_mass[j] - prefix_mass[i])\n",
    "            if (i > 0) and (j < len(peptide)):\n",
    "                cyclic_spectrum.append(peptide_mass - cyclic_spectrum[-1])\n",
    "    return sorted(cyclic_spectrum)\n",
    "\n",
    "peptide_seq = 'LEQN'\n",
    "print_list(cyclic_spectrum(peptide_seq))"
   ]
  }
 ],
 "metadata": {
  "kernelspec": {
   "display_name": "base",
   "language": "python",
   "name": "python3"
  },
  "language_info": {
   "codemirror_mode": {
    "name": "ipython",
    "version": 3
   },
   "file_extension": ".py",
   "mimetype": "text/x-python",
   "name": "python",
   "nbconvert_exporter": "python",
   "pygments_lexer": "ipython3",
   "version": "3.9.16"
  },
  "orig_nbformat": 4
 },
 "nbformat": 4,
 "nbformat_minor": 2
}
